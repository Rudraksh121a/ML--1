{
 "cells": [
  {
   "cell_type": "markdown",
   "id": "bd9ab3ef-4c36-481c-bc05-15b93e90def5",
   "metadata": {},
   "source": [
    "## Q1: Explain the following with an example:\n",
    "\n",
    "1) Artificial Intelligence\n",
    "\n",
    "2) Machine Learning\n",
    "\n",
    "3) Deep Learning"
   ]
  },
  {
   "cell_type": "raw",
   "id": "63069a79-657f-4240-b110-e276b2bd535e",
   "metadata": {},
   "source": [
    "Artificial intelligence (AI) is the ability of a computer or a robot controlled by a computer to do tasks that are usually done by humans because they require human intelligence and discernment.\n",
    "\n",
    "The following are the examples of AI-Artificial Intelligence: Google Maps and Ride-Hailing Applications. Face Detection and recognition. Text Editors and Autocorrect.\n",
    "\n",
    "\n",
    "Machine learning can classify available data into groups, which are then defined by rules set by analysts. When the classification is complete, the analysts can calculate the probability of a fault. Real-world examples of predictive analytics: Predicting whether a transaction is fraudulent or legitimate\n",
    "\n",
    "Deep learning is a machine learning technique that teaches computers to do what comes naturally to humans: learn by example. Deep learning is a key technology behind driverless cars, enabling them to recognize a stop sign, or to distinguish a pedestrian from a lamppost."
   ]
  },
  {
   "cell_type": "markdown",
   "id": "5fcf4928-fdef-4bc2-b993-89967da1c74b",
   "metadata": {},
   "source": [
    "# Q2: What is supervised learning? List some examples of supervised learning"
   ]
  },
  {
   "cell_type": "raw",
   "id": "6dc0adc6-9cf8-4328-9a11-79bd466979f2",
   "metadata": {},
   "source": [
    "upsupervised learning, also known as supervised machine learning, is a subcategory of machine learning and artificial intelligence. It is defined by its use of labeled datasets to train algorithms that to classify data or predict outcomes accurately.\n",
    "\n",
    "Example: Optical character recognition"
   ]
  },
  {
   "cell_type": "markdown",
   "id": "d1e2f86b-14a4-4b31-af95-d4316c7bf244",
   "metadata": {},
   "source": [
    "# Q3: What is unsupervised learning? List some examples of unsupervised learning."
   ]
  },
  {
   "cell_type": "raw",
   "id": "9213da61-9f25-4643-9884-492a8f13563c",
   "metadata": {},
   "source": [
    "Unsupervised learning is also called clustering.\n",
    "Example: Find a face in an image."
   ]
  },
  {
   "cell_type": "markdown",
   "id": "1c31a985-d63a-43e2-92c3-725c7be39f64",
   "metadata": {},
   "source": [
    "#  Q4: What is the difference between AI, ML, DL, and DS"
   ]
  },
  {
   "cell_type": "raw",
   "id": "4dfd3001-7dc6-4f66-a4d2-38b62ab816f1",
   "metadata": {},
   "source": [
    "Artificial Intelligence uses logic and decision trees. Machine Learning uses statistical models. Data Science deals with structured and unstructured data. Chatbots, and Voice assistants are popular applications of AI."
   ]
  },
  {
   "cell_type": "markdown",
   "id": "1d1e925b-1a81-423a-b67f-f6e00a1dd44f",
   "metadata": {},
   "source": [
    "## Q5: What are the main differences between supervised, unsupervised, and semi-supervised learning?"
   ]
  },
  {
   "cell_type": "raw",
   "id": "36015372-20cd-4f7b-bd53-d9a1bb3f9acc",
   "metadata": {},
   "source": [
    "Supervised learning is a problem with labeled data, expecting to develop predictive capability. Unsupervised learning is discovering process, diving into unlabeled data to capture hidden information. Semi-supervised learning is a blend of supervised and unsupervised learnin"
   ]
  },
  {
   "cell_type": "markdown",
   "id": "2dd66af0-2db6-4651-ac53-f859ea73104f",
   "metadata": {},
   "source": [
    "## Q6: What is train, test and validation split? Explain the importance of each term."
   ]
  },
  {
   "cell_type": "raw",
   "id": "225cadad-9204-4e6c-a9c5-ba02cd9441d8",
   "metadata": {},
   "source": [
    "raining data is the set of the data on which the actual training takes place. Validation split helps to improve the model performance by fine-tuning the model after each epoch. The test set informs us about the final accuracy of the model after completing the training phase."
   ]
  },
  {
   "cell_type": "markdown",
   "id": "6933b484-b1d4-42dc-adea-3c8a59f402c9",
   "metadata": {},
   "source": [
    "## Q7: How can unsupervised learning be used in anomaly detection? "
   ]
  },
  {
   "cell_type": "raw",
   "id": "5c863c1c-ff5c-4fe7-9cd1-cbe84c300545",
   "metadata": {},
   "source": [
    "Unsupervised Anomaly Detection: This method does require any training data and instead assumes two things about the data ie Only a small percentage of data is anomalous and Any anomaly is statistically different from the normal samples"
   ]
  },
  {
   "cell_type": "markdown",
   "id": "76e98b6f-d4c6-4e5b-9ee3-8142a4ca9d94",
   "metadata": {},
   "source": [
    "## Q8: List down some commonly used supervised learning algorithms and unsupervised learning algorithms"
   ]
  },
  {
   "cell_type": "raw",
   "id": "464a84a5-c565-4a4a-a6b0-81960337c5be",
   "metadata": {},
   "source": [
    "The most commonly used Supervised Learning algorithms are decision tree, logistic regression, linear regression, support vector machine. The most commonly used Unsupervised Learning algorithms are k-means clustering, hierarchical clustering, and apriori algorithm"
   ]
  }
 ],
 "metadata": {
  "kernelspec": {
   "display_name": "Python 3 (ipykernel)",
   "language": "python",
   "name": "python3"
  },
  "language_info": {
   "codemirror_mode": {
    "name": "ipython",
    "version": 3
   },
   "file_extension": ".py",
   "mimetype": "text/x-python",
   "name": "python",
   "nbconvert_exporter": "python",
   "pygments_lexer": "ipython3",
   "version": "3.10.8"
  }
 },
 "nbformat": 4,
 "nbformat_minor": 5
}
